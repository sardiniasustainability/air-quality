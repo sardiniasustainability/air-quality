{
 "cells": [
  {
   "cell_type": "markdown",
   "metadata": {},
   "source": [
    "# An analysis of official data about air quality in Sardinia\n",
    "\n",
    "We'll take a look at the data that is available on the website \"Sardegna Ambiente\". The data is of two types: yearly emissions and daily emissions."
   ]
  },
  {
   "cell_type": "markdown",
   "metadata": {},
   "source": [
    "## Yearly emissions\n",
    "\n",
    "Yearly emissions are averages by year and by comune. The only available data is for years 2001 and 2021, and they are organised by the economic sector causing them.\n",
    "\n",
    "\n"
   ]
  },
  {
   "cell_type": "code",
   "execution_count": null,
   "metadata": {
    "tags": []
   },
   "outputs": [],
   "source": [
    "import pandas as pd\n",
    "import air_quality_helpers as h\n",
    "\n",
    "comune_data = pd.read_csv(\"../data/comuni/anagrafica_comunale.csv\", comment=\"#\")\n",
    "h.print_metadata(comune_data, \"Data from the comune:\")"
   ]
  },
  {
   "cell_type": "code",
   "execution_count": null,
   "metadata": {},
   "outputs": [],
   "source": [
    "import air_quality_helpers as h\n",
    "import pandas as pd\n",
    "\n",
    "pollution_data = pd.read_csv(\"../data/yearly_emissions/agriculture-2010.csv\")\n",
    "economic_activity = \"Agriculture\"\n",
    "\n",
    "h.print_metadata(pollution_data, economic_activity)\n",
    "\n",
    "h.print_pollutants(pollution_data)\n",
    "pollutants = h.pollutants_in_yearly_data(pollution_data)\n",
    "\n",
    "curr_pollutant = pollutants[24]\n",
    "h.plot_yearly_pollution_in_map(pollution_data, curr_pollutant, economic_activity)"
   ]
  },
  {
   "cell_type": "markdown",
   "metadata": {},
   "source": [
    "## Hourly emissions\n",
    "\n",
    "The hourly emissions are obtained by direct reading at measurement stations. The following is a complete list of all the available measurement stations.\n",
    "\n",
    "| Code          | Province                        | Comune              |\n",
    "|---------------|---------------------------------|---------------------|\n",
    "| cenas6        | Città Metropolitana di Cagliari | Assemini            |\n",
    "| cenas8        | Città Metropolitana di Cagliari | Assemini            |\n",
    "| cenas9        | Città Metropolitana di Cagliari | Assemini            |\n",
    "| cenca1        | Città Metropolitana di Cagliari | Cagliari            |\n",
    "| cenmo1        | Città Metropolitana di Cagliari | Monserrato          |\n",
    "| cenqu1        | Città Metropolitana di Cagliari | Quartu Sant'Elena   |\n",
    "| censa2        | Città Metropolitana di Cagliari | Sarroch             |\n",
    "| censa3        | Città Metropolitana di Cagliari | Sarroch             |\n",
    "| cenma1        | Nuoro                           | Macomer             |\n",
    "| cennu1        | Nuoro                           | Nuoro               |\n",
    "| cennu2        | Nuoro                           | Nuoro               |\n",
    "| cenot3        | Nuoro                           | Ottana              |\n",
    "| censn1        | Nuoro                           | Siniscola           |\n",
    "| cenor1        | Oristano                        | Oristano            |\n",
    "| cenor2        | Oristano                        | Oristano            |\n",
    "| cesgi1        | Oristano                        | Santa Giusta        |\n",
    "| cealg1        | Sassari                         | Alghero             |\n",
    "| cenpt1        | Sassari                         | Porto Torres        |\n",
    "| cens10        | Sassari                         | Olbia               |\n",
    "| cens12        | Sassari                         | Sassari             |\n",
    "| cens16        | Sassari                         | Sassari             |\n",
    "| censs2        | Sassari                         | Sassari             |\n",
    "| censs3        | Sassari                         | Porto Torres        |\n",
    "| censs4        | Sassari                         | Porto Torres        |\n",
    "| ceolb1        | Sassari                         | Olbia               |\n",
    "| cencb2        | Sud Sardegna                    | Carbonia            |\n",
    "| cenig1        | Sud Sardegna                    | Iglesias            |\n",
    "| cennf1        | Sud Sardegna                    | Gonnesa             |\n",
    "| cennm1        | Sud Sardegna                    | Nuraminis           |\n",
    "| cenps4        | Sud Sardegna                    | Portoscuso          |\n",
    "| cenps6        | Sud Sardegna                    | Portoscuso          |\n",
    "| cenps7        | Sud Sardegna                    | Portoscuso          |\n",
    "| cense0        | Sud Sardegna                    | Seulo               |\n",
    "| censg3        | Sud Sardegna                    | San Gavino Monreale |"
   ]
  },
  {
   "cell_type": "markdown",
   "metadata": {},
   "source": [
    "Let's focus on the Sarroch station _censa2_, in particular the CO emissions:"
   ]
  },
  {
   "cell_type": "code",
   "execution_count": null,
   "metadata": {},
   "outputs": [],
   "source": [
    "import pandas as pd\n",
    "import matplotlib.pyplot as plt\n",
    "import air_quality_helpers as h\n",
    "\n",
    "\n",
    "daily_pollution_data = pd.read_csv(\"../data/hourly_emissions_sarroch/censa2-sarroch-co-2020.csv\", comment=\"#\")\n",
    "data_to_plot = h.convert_to_timeseries(daily_pollution_data)\n",
    "h.plot_daily_pollution(data_to_plot, \"CO emissions in Sarroch (CA) [mg/m^3]\")"
   ]
  }
 ],
 "metadata": {
  "kernelspec": {
   "display_name": "data-science",
   "language": "python",
   "name": "data-science"
  },
  "language_info": {
   "codemirror_mode": {
    "name": "ipython",
    "version": 3
   },
   "file_extension": ".py",
   "mimetype": "text/x-python",
   "name": "python",
   "nbconvert_exporter": "python",
   "pygments_lexer": "ipython3",
   "version": "3.6.12"
  }
 },
 "nbformat": 4,
 "nbformat_minor": 4
}
