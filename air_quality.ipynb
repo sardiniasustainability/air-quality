{
 "cells": [
  {
   "source": [
    "# An analysis of official data about air quality in Sardinia\n",
    "\n",
    "\n",
    "\n"
   ],
   "cell_type": "code",
   "metadata": {},
   "execution_count": null,
   "outputs": []
  },
  {
   "cell_type": "code",
   "execution_count": 3,
   "metadata": {
    "tags": []
   },
   "outputs": [],
   "source": [
    "import pandas as pd\n",
    "import os\n",
    "import numpy as np\n",
    "\n",
    "agriculture_data = pd.read_csv(\"./data/yearly_emissions/agriculture-2010.csv\")\n",
    "industrial_combustion_data = pd.read_csv(\"./data/yearly_emissions/industrial-combustion-processes-2010.csv\")\n",
    "comune_data = pd.read_csv(\"./data/comuni/anagrafica_comunale.csv\", comment=\"#\")"
   ]
  }
 ],
 "metadata": {
  "kernelspec": {
   "display_name": "data-science",
   "language": "python",
   "name": "data-science"
  },
  "language_info": {
   "codemirror_mode": {
    "name": "ipython",
    "version": 3
   },
   "file_extension": ".py",
   "mimetype": "text/x-python",
   "name": "python",
   "nbconvert_exporter": "python",
   "pygments_lexer": "ipython3",
   "version": "3.6.12-final"
  }
 },
 "nbformat": 4,
 "nbformat_minor": 4
}