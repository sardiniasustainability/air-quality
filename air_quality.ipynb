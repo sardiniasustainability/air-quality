{
 "cells": [
  {
   "source": [
    "An analysis of official data about air quality in Sardinia\n",
    "----------------------------------------------------------\n",
    "\n",
    "We'll take a look at the data that is available on the website \"Sardegna Ambiente\". The data is of two types: yearly emissions and daily emissions."
   ],
   "cell_type": "markdown",
   "metadata": {}
  },
  {
   "source": [
    "## Yearly emissions\n",
    "\n",
    "Yearly emissions are averages by year and by comune. The only available data is for years 2001 and 2021, and they are organised by cause through a hierarchy of sectors.\n"
   ],
   "cell_type": "markdown",
   "metadata": {}
  },
  {
   "cell_type": "code",
   "execution_count": 2,
   "metadata": {
    "tags": []
   },
   "outputs": [
    {
     "output_type": "stream",
     "name": "stdout",
     "text": [
      "Emissions by agriculture:\n      0: Macrosettore\n      1: Provincia\n      2: Comune\n      3: Inquinante\n      4: Valore\nEmissions by industrial combusion processes:\n      0: Macrosettore\n      1: Provincia\n      2: Comune\n      3: Inquinante\n      4: Valore\nEmissions by industrial non-combusion processes:\n      0: Macrosettore\n      1: Provincia\n      2: Comune\n      3: Inquinante\n      4: Valore\nData from the comune:\n      0: Codice ISTAT\n      1: Ente\n      2: Indirizzo\n      3: C.A.P.\n      4: Denominazione comune\n      5: Provincia\n      6: Email\n      7: Email PEC\n      8: Fax\n      9: U.R.P. email\n     10: U.R.P. fax\n     11: U.R.P. telefono\n     12: Abitanti\n     13: Superficie\n     14: Perimetro\n     15: Altitudine espressa in m. s.l.\n     16: Codice catastale\n     17: Codice Fiscale\n     18: A.T.O.\n     19: A.T.S.\n     20: Distretto Socio Sanitario\n     21: PLUS\n     22: Santo patrono\n     23: Festività Santo patrono\n"
     ]
    }
   ],
   "source": [
    "import pandas as pd\n",
    "import air_quality_helpers as h\n",
    "\n",
    "agriculture_data = pd.read_csv(\"./data/yearly_emissions/agriculture-2010.csv\")\n",
    "h.print_metadata(agriculture_data, \"Emissions by agriculture:\")\n",
    "\n",
    "industrial_combustion_data = pd.read_csv(\"./data/yearly_emissions/industrial-combustion-processes-2010.csv\")\n",
    "h.print_metadata(industrial_combustion_data, \"Emissions by industrial combusion processes:\")\n",
    "\n",
    "no_combustion_data = pd.read_csv(\"./data/yearly_emissions/no-combustion-processes-2010.csv\")\n",
    "h.print_metadata(no_combustion_data, \"Emissions by industrial non-combusion processes:\")\n",
    "\n",
    "comune_data = pd.read_csv(\"./data/comuni/anagrafica_comunale.csv\", comment=\"#\")\n",
    "h.print_metadata(comune_data, \"Data from the comune:\")\n"
   ]
  },
  {
   "source": [
    "## Hourly emissions\n",
    "\n",
    "The hourly emissions are obtained by direct reading at measurement stations. The following is a complete list of all the available measurement stations.\n",
    "\n",
    "| Name          | Province                        | Comune              |\n",
    "|---------------|---------------------------------|---------------------|\n",
    "| Cenas6        | Città Metropolitana di Cagliari | Assemini            |\n",
    "| Cenas8        | Città Metropolitana di Cagliari | Assemini            |\n",
    "| Cenas9        | Città Metropolitana di Cagliari | Assemini            |\n",
    "| Cenca1        | Città Metropolitana di Cagliari | Cagliari            |\n",
    "| Cenmo1        | Città Metropolitana di Cagliari | Monserrato          |\n",
    "| Cenqu1        | Città Metropolitana di Cagliari | Quartu Sant'Elena   |\n",
    "| Censa2        | Città Metropolitana di Cagliari | Sarroch             |\n",
    "| Censa3        | Città Metropolitana di Cagliari | Sarroch             |\n",
    "| Cenma1        | Nuoro                           | Macomer             |\n",
    "| Cennu1        | Nuoro                           | Nuoro               |\n",
    "| Cennu2        | Nuoro                           | Nuoro               |\n",
    "| Cenot3        | Nuoro                           | Ottana              |\n",
    "| Censn1        | Nuoro                           | Siniscola           |\n",
    "| Cenor1        | Oristano                        | Oristano            |\n",
    "| Cenor2        | Oristano                        | Oristano            |\n",
    "| Cesgi1        | Oristano                        | Santa Giusta        |\n",
    "| Cealg1        | Sassari                         | Alghero             |\n",
    "| Cenpt1        | Sassari                         | Porto Torres        |\n",
    "| Cens10        | Sassari                         | Olbia               |\n",
    "| Cens12        | Sassari                         | Sassari             |\n",
    "| Cens16        | Sassari                         | Sassari             |\n",
    "| Censs2        | Sassari                         | Sassari             |\n",
    "| Censs3        | Sassari                         | Porto Torres        |\n",
    "| Censs4        | Sassari                         | Porto Torres        |\n",
    "| Ceolb1        | Sassari                         | Olbia               |\n",
    "| Cencb2        | Sud Sardegna                    | Carbonia            |\n",
    "| Cenig1        | Sud Sardegna                    | Iglesias            |\n",
    "| Cennf1        | Sud Sardegna                    | Gonnesa             |\n",
    "| Cennm1        | Sud Sardegna                    | Nuraminis           |\n",
    "| Cenps4        | Sud Sardegna                    | Portoscuso          |\n",
    "| Cenps6        | Sud Sardegna                    | Portoscuso          |\n",
    "| Cenps7        | Sud Sardegna                    | Portoscuso          |\n",
    "| Cense0        | Sud Sardegna                    | Seulo               |\n",
    "| Censg3        | Sud Sardegna                    | San Gavino Monreale |"
   ],
   "cell_type": "markdown",
   "metadata": {}
  }
 ],
 "metadata": {
  "kernelspec": {
   "display_name": "data-science",
   "language": "python",
   "name": "data-science"
  },
  "language_info": {
   "codemirror_mode": {
    "name": "ipython",
    "version": 3
   },
   "file_extension": ".py",
   "mimetype": "text/x-python",
   "name": "python",
   "nbconvert_exporter": "python",
   "pygments_lexer": "ipython3",
   "version": "3.6.12-final"
  }
 },
 "nbformat": 4,
 "nbformat_minor": 4
}